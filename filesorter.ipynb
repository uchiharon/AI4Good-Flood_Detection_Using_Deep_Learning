{
 "cells": [
  {
   "cell_type": "markdown",
   "metadata": {},
   "source": [
    "# Dataset Organiser\n",
    "\n",
    "> This notebook is created to sort the files into train and test set, as well as, damage and undamage region. \n",
    "> <p> Note: All pre-event are taking as undamage"
   ]
  },
  {
   "cell_type": "code",
   "execution_count": 69,
   "metadata": {},
   "outputs": [],
   "source": [
    "import json\n",
    "import numpy as np\n",
    "import glob\n",
    "import shutil\n",
    "import os"
   ]
  },
  {
   "cell_type": "markdown",
   "metadata": {},
   "source": [
    "## Prepare folder for storing training and testing dataset\n"
   ]
  },
  {
   "cell_type": "code",
   "execution_count": 90,
   "metadata": {},
   "outputs": [],
   "source": [
    "dirpath = os.path.join('.', 'dataset')\n",
    "if os.path.exists(dirpath):\n",
    "\n",
    "    # Delete directory\n",
    "    shutil.rmtree(dirpath)\n",
    "\n",
    "    # Make directory\n",
    "    os.mkdir(dirpath)\n",
    "else:\n",
    "    os.mkdir(dirpath)\n",
    "    "
   ]
  },
  {
   "cell_type": "code",
   "execution_count": 81,
   "metadata": {},
   "outputs": [
    {
     "data": {
      "text/plain": [
       "'d:\\\\uoc\\\\AI4Good-Flood_Detection_Using_Deep_Learning\\\\selected_data\\\\train\\\\labels\\\\*post*'"
      ]
     },
     "execution_count": 81,
     "metadata": {},
     "output_type": "execute_result"
    }
   ],
   "source": [
    "os.path.abspath(os.path.join('.', 'selected_data', 'train', 'labels', '*post*'))"
   ]
  },
  {
   "cell_type": "code",
   "execution_count": 82,
   "metadata": {},
   "outputs": [],
   "source": [
    "pre_disaster_images = glob.glob(os.path.abspath(os.path.join('.', 'selected_data', 'train', 'labels', '*post*')))"
   ]
  },
  {
   "cell_type": "code",
   "execution_count": 67,
   "metadata": {},
   "outputs": [],
   "source": [
    "# Store the directory of all post disaster event\n",
    "\n",
    "post_disaster_metadata = glob.glob(r\"D:\\\\uoc\\AI4Good-Flood_Detection_Using_Deep_Learning\\selected_data\\\\train\\\\labels\\\\*post*\")"
   ]
  },
  {
   "cell_type": "code",
   "execution_count": 68,
   "metadata": {},
   "outputs": [
    {
     "name": "stdout",
     "output_type": "stream",
     "text": [
      "{'destroyed': 75, 'major-damage': 119, 'minor-damage': 149, 'no-damage': 8128, 'un-classified': 285}\n"
     ]
    }
   ],
   "source": [
    "# Know the available status of the properties damage level\n",
    "\n",
    "status = []\n",
    "for metadata in post_disaster_metadata:\n",
    "    with open(metadata) as f:\n",
    "        try:\n",
    "\n",
    "            json_object = json.load(f)\n",
    "            label = json.dumps(json_object, indent=2)\n",
    "            properties = json_object['features']['lng_lat']\n",
    "            for property in properties:\n",
    "                status.append(property['properties']['subtype'])\n",
    "            unique_status, status_count = np.unique(np.array(status), return_counts=True)\n",
    "            \n",
    "        except:\n",
    "            print('Error occured')\n",
    "print(dict(zip(unique_status, status_count)))"
   ]
  },
  {
   "cell_type": "code",
   "execution_count": null,
   "metadata": {},
   "outputs": [],
   "source": []
  },
  {
   "cell_type": "code",
   "execution_count": null,
   "metadata": {},
   "outputs": [],
   "source": []
  }
 ],
 "metadata": {
  "kernelspec": {
   "display_name": "base",
   "language": "python",
   "name": "python3"
  },
  "language_info": {
   "codemirror_mode": {
    "name": "ipython",
    "version": 3
   },
   "file_extension": ".py",
   "mimetype": "text/x-python",
   "name": "python",
   "nbconvert_exporter": "python",
   "pygments_lexer": "ipython3",
   "version": "3.11.4"
  }
 },
 "nbformat": 4,
 "nbformat_minor": 2
}
