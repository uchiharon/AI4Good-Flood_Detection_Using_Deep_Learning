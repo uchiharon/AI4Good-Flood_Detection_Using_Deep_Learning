{
 "cells": [
  {
   "cell_type": "markdown",
   "metadata": {},
   "source": [
    "# Dataset Organiser\n",
    "\n",
    "> This notebook is created to sort the files into train and test set, as well as, damage and undamage region. \n",
    "> <p> Note: All pre-event are taking as undamage"
   ]
  },
  {
   "cell_type": "code",
   "execution_count": 53,
   "metadata": {},
   "outputs": [],
   "source": [
    "import json\n",
    "import numpy as np\n",
    "import glob\n",
    "import shutil\n",
    "import os\n",
    "import random \n",
    "\n",
    "\n",
    "random.seed(42)"
   ]
  },
  {
   "cell_type": "markdown",
   "metadata": {},
   "source": [
    "## Prepare folder for storing training and testing dataset\n",
    "\n",
    "The aim is to arange the dataset in this format.\n",
    "<pre>\n",
    "|__train\n",
    "    |_____damage\n",
    "    |_____no_damage\n",
    "|__test\n",
    "    |_____damage\n",
    "    |_____no_damage\n",
    "<pre/>"
   ]
  },
  {
   "cell_type": "code",
   "execution_count": 54,
   "metadata": {},
   "outputs": [],
   "source": [
    "dirpath = os.path.join('.', 'dataset')\n",
    "\n",
    "trainpath = os.path.join(dirpath, 'train')\n",
    "testpath = os.path.join(dirpath, 'test')\n",
    "damagepath = os.path.join(dirpath, 'damage')\n",
    "no_damagepath = os.path.join(dirpath, 'no_damage')\n",
    "\n",
    "train_damage = os.path.join(trainpath, 'damage')\n",
    "train_no_damage = os.path.join(trainpath, 'no_damage')\n",
    "test_damage = os.path.join(testpath, 'damage')\n",
    "test_no_damage = os.path.join(testpath, 'no_damage')\n",
    "\n",
    "if os.path.exists(dirpath):\n",
    "\n",
    "    # Delete directory\n",
    "    shutil.rmtree(dirpath)\n",
    "\n",
    "    # Make directory\n",
    "    os.mkdir(dirpath)\n",
    "\n",
    "    os.mkdir(trainpath)\n",
    "    os.mkdir(testpath)\n",
    "    os.mkdir(damagepath)\n",
    "    os.mkdir(no_damagepath)\n",
    "\n",
    "    os.mkdir(train_damage)\n",
    "    os.mkdir(train_no_damage)\n",
    "    os.mkdir(test_damage)\n",
    "    os.mkdir(test_no_damage)\n",
    "\n",
    "\n",
    "else:\n",
    "    os.mkdir(dirpath)\n",
    "\n",
    "    os.mkdir(trainpath)\n",
    "    os.mkdir(testpath)\n",
    "    os.mkdir(damagepath)\n",
    "    os.mkdir(no_damagepath)\n",
    "\n",
    "    os.mkdir(train_damage)\n",
    "    os.mkdir(train_no_damage)\n",
    "    os.mkdir(test_damage)\n",
    "    os.mkdir(test_no_damage)\n",
    "\n"
   ]
  },
  {
   "cell_type": "code",
   "execution_count": 55,
   "metadata": {},
   "outputs": [],
   "source": [
    "# Store the directory of all pre disaster event\n",
    "pre_disaster_metadata = glob.glob(os.path.abspath(os.path.join('.', 'selected_data', 'train', 'labels', '*pre*')))\n",
    "\n",
    "# Store the directory of all post disaster event\n",
    "post_disaster_metadata = glob.glob(r\"D:\\\\uoc\\AI4Good-Flood_Detection_Using_Deep_Learning\\selected_data\\\\train\\\\labels\\\\*post*\")"
   ]
  },
  {
   "cell_type": "code",
   "execution_count": 56,
   "metadata": {},
   "outputs": [],
   "source": [
    "# Know the available status of the properties damage level\n",
    "\n",
    "\n",
    "for metadata in post_disaster_metadata:\n",
    "    with open(metadata) as f:\n",
    "        try:\n",
    "            status = []\n",
    "            json_object = json.load(f)\n",
    "            properties = json_object['features']['lng_lat']\n",
    "            for property in properties:\n",
    "                status.append(property['properties']['subtype'])\n",
    "            unique_status, status_count = np.unique(np.array(status), return_counts=True)\n",
    "            file_name = metadata.split('\\\\')[-1].split('.')[0]\n",
    "            file_path = r\"D:\\\\uoc\\AI4Good-Flood_Detection_Using_Deep_Learning\\selected_data\\\\train\\\\images\"\n",
    "            image_location = os.path.join(file_path, file_name + '.png')\n",
    "            \n",
    "            if 'destroyed' in status or 'major-damage' in status or 'minor-damage' in status:\n",
    "                final_dir = os.path.abspath(os.path.join(damagepath, file_name + '.png'))\n",
    "                shutil.copy(image_location, final_dir)\n",
    "            else:\n",
    "                final_dir = os.path.abspath(os.path.join(no_damagepath,  file_name + '.png'))\n",
    "                shutil.copy(image_location, final_dir)\n",
    "\n",
    "        except:\n",
    "            print('Error occured')"
   ]
  },
  {
   "cell_type": "code",
   "execution_count": 57,
   "metadata": {},
   "outputs": [
    {
     "name": "stdout",
     "output_type": "stream",
     "text": [
      "Post flood event, their are 109 images of damaged locations and 170 images of undamaged locations\n",
      "\n",
      "The total available images is 558.\n"
     ]
    }
   ],
   "source": [
    "damaged_region = glob.glob(os.path.abspath(os.path.join('.', 'dataset', 'damage', '*')))\n",
    "undamaged_region = glob.glob(os.path.abspath(os.path.join('.', 'dataset', 'no_damage', '*')))\n",
    "total_image = len(glob.glob(os.path.abspath(os.path.join('.', 'selected_data', 'train', 'labels', '*'))))\n",
    "\n",
    "print(\"Post flood event, their are {} images of damaged locations and {} images of undamaged locations\\n\".format(len(damaged_region), \n",
    "            len(undamaged_region)))\n",
    "print(f\"The total available images is {total_image}.\")"
   ]
  },
  {
   "cell_type": "code",
   "execution_count": 58,
   "metadata": {},
   "outputs": [],
   "source": [
    "for metadata in pre_disaster_metadata:\n",
    "    file_name = metadata.split('\\\\')[-1].split('.')[0]\n",
    "    file_path = r\"D:\\\\uoc\\AI4Good-Flood_Detection_Using_Deep_Learning\\selected_data\\\\train\\\\images\"\n",
    "    image_location = os.path.join(file_path, file_name + '.png')\n",
    "    final_dir = os.path.abspath(os.path.join(no_damagepath,  file_name + '.png'))\n",
    "    shutil.copy(image_location, final_dir)\n",
    "    "
   ]
  },
  {
   "cell_type": "code",
   "execution_count": 59,
   "metadata": {},
   "outputs": [
    {
     "name": "stdout",
     "output_type": "stream",
     "text": [
      "Post flood event, their are 109 images of damaged locations and 449 images of undamaged locations\n",
      "\n",
      "The total available images is 558.\n"
     ]
    }
   ],
   "source": [
    "damaged_region = glob.glob(os.path.abspath(os.path.join('.', 'dataset', 'damage', '*')))\n",
    "undamaged_region = glob.glob(os.path.abspath(os.path.join('.', 'dataset', 'no_damage', '*')))\n",
    "total_image = len(glob.glob(os.path.abspath(os.path.join('.', 'selected_data', 'train', 'labels', '*'))))\n",
    "\n",
    "print(\"Post flood event, their are {} images of damaged locations and {} images of undamaged locations\\n\".format(len(damaged_region), \n",
    "            len(undamaged_region)))\n",
    "print(f\"The total available images is {total_image}.\")"
   ]
  },
  {
   "cell_type": "markdown",
   "metadata": {},
   "source": [
    "## Split data into Training and testset"
   ]
  },
  {
   "cell_type": "code",
   "execution_count": 60,
   "metadata": {},
   "outputs": [],
   "source": [
    "random.Random(42).shuffle(undamaged_region)\n",
    "random.Random(42).shuffle(damaged_region)\n",
    "\n",
    "no_undamage = len(undamaged_region)\n",
    "no_damage = len(damaged_region)\n",
    "\n",
    "no_undamage_test = int(no_undamage * 0.2)\n",
    "no_damage_test = int(no_damage * 0.2)\n",
    "\n",
    "train_undamage_images = undamaged_region[no_undamage_test:]\n",
    "train_damage_images = damaged_region[no_damage_test:]\n",
    "test_undamage_images = undamaged_region[:no_undamage_test]\n",
    "test_damage_images = damaged_region[:no_damage_test]\n",
    "\n",
    "assert len(train_undamage_images) + len(test_undamage_images) == no_undamage\n",
    "assert len(train_damage_images) + len(test_damage_images) == no_damage\n"
   ]
  },
  {
   "cell_type": "code",
   "execution_count": 61,
   "metadata": {},
   "outputs": [
    {
     "data": {
      "text/plain": [
       "'d:\\\\uoc\\\\AI4Good-Flood_Detection_Using_Deep_Learning\\\\dataset\\\\no_damage\\\\midwest-flooding_00000082_pre_disaster.png'"
      ]
     },
     "execution_count": 61,
     "metadata": {},
     "output_type": "execute_result"
    }
   ],
   "source": [
    "train_undamage_images[0]"
   ]
  },
  {
   "cell_type": "code",
   "execution_count": 62,
   "metadata": {},
   "outputs": [],
   "source": [
    "def train_test_split( image_paths:list, final_path:str):\n",
    "    for image in image_paths:\n",
    "        file_name = image.split('\\\\')[-1].split('.')[0]\n",
    "        final_dir = os.path.join(final_path, file_name  + '.png')\n",
    "        shutil.copy(image, final_dir)"
   ]
  },
  {
   "cell_type": "code",
   "execution_count": 63,
   "metadata": {},
   "outputs": [],
   "source": [
    "train_test_split(train_undamage_images, train_no_damage)\n",
    "train_test_split(train_damage_images, train_damage)\n",
    "train_test_split(test_undamage_images, test_no_damage)\n",
    "train_test_split(test_damage_images, test_damage)"
   ]
  }
 ],
 "metadata": {
  "kernelspec": {
   "display_name": "base",
   "language": "python",
   "name": "python3"
  },
  "language_info": {
   "codemirror_mode": {
    "name": "ipython",
    "version": 3
   },
   "file_extension": ".py",
   "mimetype": "text/x-python",
   "name": "python",
   "nbconvert_exporter": "python",
   "pygments_lexer": "ipython3",
   "version": "3.11.4"
  }
 },
 "nbformat": 4,
 "nbformat_minor": 2
}
